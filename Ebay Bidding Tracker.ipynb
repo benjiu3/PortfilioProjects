{
 "cells": [
  {
   "cell_type": "code",
   "execution_count": 6,
   "id": "8fbbef76",
   "metadata": {},
   "outputs": [],
   "source": [
    "#Import needed libraries\n",
    "from bs4 import BeautifulSoup\n",
    "import requests\n",
    "import smtplib\n",
    "import time\n",
    "import datetime\n",
    "import csv\n",
    "import pandas as pd"
   ]
  },
  {
   "cell_type": "code",
   "execution_count": 7,
   "id": "09e0b826",
   "metadata": {},
   "outputs": [],
   "source": [
    "#Initialize blank excel sheet\n",
    "import csv\n",
    "\n",
    "header = ['Item Name', 'Current Bid Price', 'Date']\n",
    "data = []\n",
    "\n",
    "with open('EbayCurrentBidTracker.csv', 'w', newline='', encoding='UTF8') as f:\n",
    "    writer = csv.writer(f)\n",
    "    writer.writerow(header)\n",
    "    writer.writerow(data)"
   ]
  },
  {
   "cell_type": "code",
   "execution_count": 8,
   "id": "58d52ad8",
   "metadata": {},
   "outputs": [],
   "source": [
    "#Create function to grab data from the site and add it to existing spreadsheet\n",
    "def check_currentbid():\n",
    "    URL = \"https://www.ebay.com/itm/144419493550?epid=20043555149&hash=item21a01296ae:g:GhsAAOSw-ndiDt5-\"\n",
    "    page = requests.get(URL)\n",
    "    soup1 = BeautifulSoup(page.content, 'html.parser')\n",
    "    itemname = soup1.find(id='vi-lkhdr-itmTitl').get_text()\n",
    "    currentbid = soup1.find(id='prcIsum_bidPrice').get_text()\n",
    "    currentbid = currentbid.strip()[4:]\n",
    "    itemname = itemname.strip()\n",
    "    today = datetime.date.today()\n",
    "    header = ['Item Name', 'Current Bid Price', 'Date']\n",
    "    data = [itemname, currentbid, today]\n",
    "    #Appending data\n",
    "    with open('EbayCurrentBidTracker.csv', 'a+', newline='', encoding='UTF8') as f:\n",
    "        writer = csv.writer(f)\n",
    "        writer.writerow(data)\n",
    "    "
   ]
  },
  {
   "cell_type": "code",
   "execution_count": 9,
   "id": "a0b7c18d",
   "metadata": {},
   "outputs": [
    {
     "ename": "KeyboardInterrupt",
     "evalue": "",
     "output_type": "error",
     "traceback": [
      "\u001b[1;31m---------------------------------------------------------------------------\u001b[0m",
      "\u001b[1;31mKeyboardInterrupt\u001b[0m                         Traceback (most recent call last)",
      "\u001b[1;32m~\\AppData\\Local\\Temp/ipykernel_25048/3621746197.py\u001b[0m in \u001b[0;36m<module>\u001b[1;34m\u001b[0m\n\u001b[0;32m      1\u001b[0m \u001b[1;32mwhile\u001b[0m\u001b[1;33m(\u001b[0m\u001b[1;32mTrue\u001b[0m\u001b[1;33m)\u001b[0m\u001b[1;33m:\u001b[0m\u001b[1;33m\u001b[0m\u001b[1;33m\u001b[0m\u001b[0m\n\u001b[0;32m      2\u001b[0m     \u001b[0mcheck_currentbid\u001b[0m\u001b[1;33m(\u001b[0m\u001b[1;33m)\u001b[0m\u001b[1;33m\u001b[0m\u001b[1;33m\u001b[0m\u001b[0m\n\u001b[1;32m----> 3\u001b[1;33m     \u001b[0mtime\u001b[0m\u001b[1;33m.\u001b[0m\u001b[0msleep\u001b[0m\u001b[1;33m(\u001b[0m\u001b[1;36m3\u001b[0m\u001b[1;33m)\u001b[0m\u001b[1;33m\u001b[0m\u001b[1;33m\u001b[0m\u001b[0m\n\u001b[0m\u001b[0;32m      4\u001b[0m \u001b[1;33m\u001b[0m\u001b[0m\n",
      "\u001b[1;31mKeyboardInterrupt\u001b[0m: "
     ]
    }
   ],
   "source": [
    "#Create a while loop to keep checking the website for the current bid and add it to excel sheet every hour\n",
    "while(True):\n",
    "    check_currentbid()\n",
    "    time.sleep(3600)\n",
    "    "
   ]
  },
  {
   "cell_type": "code",
   "execution_count": 10,
   "id": "bc105c5f",
   "metadata": {},
   "outputs": [
    {
     "name": "stdout",
     "output_type": "stream",
     "text": [
      "                                       Item Name  Current Bid Price  \\\n",
      "0  Size 13 - Nike Zoom Kobe 6 Protro Grinch 2020              761.0   \n",
      "1  Size 13 - Nike Zoom Kobe 6 Protro Grinch 2020              761.0   \n",
      "2  Size 13 - Nike Zoom Kobe 6 Protro Grinch 2020              761.0   \n",
      "\n",
      "         Date  \n",
      "0  2022-02-23  \n",
      "1  2022-02-23  \n",
      "2  2022-02-23  \n"
     ]
    }
   ],
   "source": [
    "#View the contents of the spreadsheet\n",
    "df = pd.read_csv(r'C:\\Users\\benji\\EbayCurrentBidTracker.csv')\n",
    "print(df)"
   ]
  }
 ],
 "metadata": {
  "kernelspec": {
   "display_name": "Python 3 (ipykernel)",
   "language": "python",
   "name": "python3"
  },
  "language_info": {
   "codemirror_mode": {
    "name": "ipython",
    "version": 3
   },
   "file_extension": ".py",
   "mimetype": "text/x-python",
   "name": "python",
   "nbconvert_exporter": "python",
   "pygments_lexer": "ipython3",
   "version": "3.9.7"
  }
 },
 "nbformat": 4,
 "nbformat_minor": 5
}
